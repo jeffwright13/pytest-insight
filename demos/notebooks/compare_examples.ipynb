"""# Real-World Comparison Scenarios

This notebook demonstrates practical comparison scenarios using pytest-insight.
"""

# Cell 1: Setup (same as query notebook)

# Cell 2: Version Comparison
"""## Comparing Between Versions

Compare test results between different service versions or implementations.
"""

diff = (
    api.compare()
    .between_suts("api-", "integration-")
    .execute()
)

# Cell 3: Time Analysis
"""## Time-based Analysis

Analyze how test results change over time periods.
"""

time_diff = (
    api.compare()
    .between_times(days=30)
    .execute()
)

# Cell 4: Change Detection
"""## Detecting and Understanding Changes

Analyze what changed between comparisons:
- New failures
- Fixed tests
- Persistent failures
"""