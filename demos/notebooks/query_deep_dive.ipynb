# Cell 1: Setup
"""# Deep Dive: Query Operations in pytest-insight

This notebook explores the two-level filtering design and context preservation features of pytest-insight's query system.
"""

from pytest_insight import InsightAPI, get_storage_instance
from pathlib import Path

# Initialize API
storage_path = Path.home() / ".pytest_insight" / "practice.json"
storage = get_storage_instance(file_path=str(storage_path))
api = InsightAPI(storage=storage)

# Cell 2: Session-Level Filtering
"""## Session-Level Filtering

Session-level filtering operates on entire test sessions, allowing you to filter by:
- SUT (System Under Test)
- Time range
- Warning presence
"""

# Example: Find all API service sessions from last 30 days
sessions = (
    api.query()
    .for_sut("api-")
    .in_last_days(30)
    .execute()
)

print(f"Found {len(sessions)} sessions")

# Cell 3: Test-Level Filtering
"""## Test-Level Filtering with Context

Test-level filtering allows you to filter by test properties while preserving session context:
- Duration thresholds
- Test outcomes
- Test patterns
"""

# Example: Find sessions with slow, failed tests
sessions_with_slow_tests = (
    api.query()
    .filter_by_test()           # Enter test filtering context
    .with_duration(5.0, None)   # Find slow tests (>5s)
    .with_outcome("failed")     # That also failed
    .apply()                    # Back to session context
    .execute()
)

# Cell 4: Context Benefits
"""## Benefits of Context Preservation

Let's explore why preserving session context is valuable:
1. See related tests that ran together
2. Access session-level warnings
3. Track rerun patterns
4. Analyze test relationships
"""

if sessions_with_slow_tests:
    session = sessions_with_slow_tests[0]
    print(f"Session ID: {session.session_id}")
    print(f"Total tests: {len(session.test_results)}")
    
    # Show related tests
    print("\nTests that ran together:")
    for test in session.test_results[:5]:
        print(f"- {test.nodeid}")
        print(f"  Outcome: {test.outcome.value}")
        print(f"  Duration: {test.duration:.2f}s")