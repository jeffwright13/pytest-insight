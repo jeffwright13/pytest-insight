"""# Advanced Analytics and Visualizations

This notebook explores deeper insights and metrics available in pytest-insight.
"""

# Cell 1: Setup (same as other notebooks)

# Cell 2: Test Stability
"""## Test Stability Analysis

Identify flaky and stable tests across your test suite.
"""

stability = api.analyze().tests.stability(days=30)

# Cell 3: Performance Trends
"""## Performance Trend Analysis

Track and visualize test execution time trends.
"""

trends = api.analyze().tests.performance_trends(min_duration=5.0)

# Cell 4: Health Metrics
"""## Test Suite Health Score

Calculate and understand overall test suite health:
- Pass/fail rates
- Flakiness levels
- Performance metrics
- Recommendations
"""

health = api.analyze().metrics.health_score()