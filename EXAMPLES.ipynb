{
 "cells": [
  {
   "cell_type": "markdown",
   "metadata": {},
   "source": [
    "# pytest-insight Fluent API Examples\n",
    "\n",
    "This notebook demonstrates the new fluent, composable InsightAPI for advanced test analytics and session mining. All examples preserve session context and support chaining."
   ]
  },
  {
   "cell_type": "code",
   "execution_count": null,
   "metadata": {},
   "outputs": [],
   "source": [
    "from pytest_insight.insight_api import InsightAPI\n",
    "\n",
    "api = InsightAPI(profile=\"my_profile\")  # Replace with your profile name or session list"
   ]
  },
  {
   "cell_type": "markdown",
   "metadata": {},
   "source": [
    "## 1. See all tests that ran together in recent sessions for a SUT"
   ]
  },
  {
   "cell_type": "code",
   "execution_count": 4,
   "metadata": {},
   "outputs": [],
   "source": [
    "sessions = api.session().for_sut(\"service\").in_last_days(7).execute()\n",
    "for session in sessions:\n",
    "    print([t.nodeid for t in session.test_results])"
   ]
  },
  {
   "cell_type": "markdown",
   "metadata": {},
   "source": [
    "## 2. Access session-level warnings"
   ]
  },
  {
   "cell_type": "code",
   "execution_count": 5,
   "metadata": {},
   "outputs": [],
   "source": [
    "for session in api.session().for_sut(\"service\").execute():\n",
    "    print(getattr(session, 'warnings', None))  # Replace with actual attribute if needed"
   ]
  },
  {
   "cell_type": "markdown",
   "metadata": {},
   "source": [
    "## 3. Track rerun patterns"
   ]
  },
  {
   "cell_type": "code",
   "execution_count": 6,
   "metadata": {},
   "outputs": [],
   "source": [
    "for session in api.session().execute():\n",
    "    print({t.nodeid: getattr(t, 'reruns', 0) for t in session.test_results})"
   ]
  },
  {
   "cell_type": "markdown",
   "metadata": {},
   "source": [
    "## 4. Analyze test relationships (tests that appear together)"
   ]
  },
  {
   "cell_type": "code",
   "execution_count": 7,
   "metadata": {},
   "outputs": [],
   "source": [
    "filtered_sessions = api.session().filter_by_test().with_duration(10.0, float(\"inf\")).apply().execute()\n",
    "for session in filtered_sessions:\n",
    "    print(\"Tests together:\", [t.nodeid for t in session.test_results])"
   ]
  },
  {
   "cell_type": "markdown",
   "metadata": {},
   "source": [
    "## 5. Identify correlated failures (multiple failures in a session)"
   ]
  },
  {
   "cell_type": "code",
   "execution_count": 8,
   "metadata": {},
   "outputs": [],
   "source": [
    "for session in api.session().execute():\n",
    "    failed = [t.nodeid for t in session.test_results if t.outcome == 'failed']\n",
    "    if len(failed) > 1:\n",
    "        print(\"Correlated failures:\", failed)"
   ]
  },
  {
   "cell_type": "markdown",
   "metadata": {},
   "source": [
    "## 6. Monitor performance trends (reliability over time)"
   ]
  },
  {
   "cell_type": "code",
   "execution_count": 9,
   "metadata": {},
   "outputs": [
    {
     "name": "stdout",
     "output_type": "stream",
     "text": [
      "[]\n"
     ]
    }
   ],
   "source": [
    "trends = api.temporal().trend_over_time(metric=\"reliability\", interval=\"day\")\n",
    "from pprint import pprint\n",
    "pprint(trends)"
   ]
  }
 ],
 "metadata": {
  "kernelspec": {
   "display_name": ".venv",
   "language": "python",
   "name": "python3"
  },
  "language_info": {
   "codemirror_mode": {
    "name": "ipython",
    "version": 3
   },
   "file_extension": ".py",
   "mimetype": "text/x-python",
   "name": "python",
   "nbconvert_exporter": "python",
   "pygments_lexer": "ipython3",
   "version": "3.9.16"
  }
 },
 "nbformat": 4,
 "nbformat_minor": 2
}
